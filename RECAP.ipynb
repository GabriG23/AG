{
 "cells": [
  {
   "attachments": {},
   "cell_type": "markdown",
   "metadata": {},
   "source": [
    "# Torch"
   ]
  },
  {
   "cell_type": "code",
   "execution_count": null,
   "metadata": {},
   "outputs": [],
   "source": [
    "!pip3 install 'torch>=1.8.2'\n",
    "!pip3 install 'torchvision>=0.9.2'\n",
    "!pip3 install 'faiss_cpu>=1.7.1'\n",
    "!pip3 install 'numpy>=1.21.2'\n",
    "!pip3 install 'Pillow>=9.0.1'\n",
    "!pip3 install 'scikit_learn>=1.0.2'\n",
    "!pip3 install 'tqdm>=4.62.3'\n",
    "!pip3 install 'utm>=0.7.0'\n",
    "\n",
    "import torch\n",
    "#use GPU if available \n",
    "DEVICE = torch.device(\"cuda:0\" if torch.cuda.is_available() else \"cpu\") #'cpu' # 'cuda' or 'cpu'\n",
    "print(DEVICE)"
   ]
  },
  {
   "attachments": {},
   "cell_type": "markdown",
   "metadata": {},
   "source": [
    "# Datasets\n",
    "- https://drive.google.com/file/d/1CQrhB_x9MECtjm0LjasXDxM9N9h24mnz/view?usp=share_link sf-xs.zip\n",
    "- https://drive.google.com/file/d/1FYcZuawvy42-PTyBl3PI8tKa1cLg__jN/view?usp=share_link tokyo-xs.zip\n",
    "- https://drive.google.com/file/d/14SVWnMgI9-jguNZPwUR1WcNXouADRCMz/view?usp=share_link tokyo-night.zip"
   ]
  },
  {
   "cell_type": "code",
   "execution_count": null,
   "metadata": {},
   "outputs": [],
   "source": [
    "!pip install --upgrade --no-cache-dir gdown       # support for download a large file from Google Drive\n",
    "from google.colab import drive\n",
    "import os, sys\n",
    "#drive.mount('/content/drive')\n",
    "\n",
    "# id = 1CQrhB_x9MECtjm0LjasXDxM9N9h24mnz sf-xs train, test e validation\n",
    "# id = 1FYcZuawvy42-PTyBl3PI8tKa1cLg__jN tokyo-xs solo test\n",
    "# id = 14SVWnMgI9-jguNZPwUR1WcNXouADRCMz tokyo-night solo test\n",
    "\n",
    "if not os.path.isfile('/content/sf-xs.zip'):\n",
    "  !gdown 1CQrhB_x9MECtjm0LjasXDxM9N9h24mnz # 3-5 min (sf-xs)\n",
    "  !jar xvf  \"/content/sf-xs.zip\"            # estrae il file zip nella cartella (in questo caso small)\n",
    "\n",
    "if not os.path.isdir('/content/sf-xs'):\n",
    "  print(\"Dataset doesn't exist\")\n",
    "\n",
    "if not os.path.isfile('/content/tokyo-xs.zip'):\n",
    "  !gdown 1FYcZuawvy42-PTyBl3PI8tKa1cLg__jN # 3-5 min (tokyo-xs)\n",
    "  !jar xvf  \"/content/tokyo-xs.zip\"            # estrae il file zip nella cartella (in questo caso small)\n",
    "\n",
    "if not os.path.isdir('/content/tokyo-xs'):\n",
    "  print(\"Dataset doesn't exist\")\n",
    "\n",
    "if not os.path.isfile('/content/tokyo-night.zip'):\n",
    "  !gdown 14SVWnMgI9-jguNZPwUR1WcNXouADRCMz # 3-5 min (tokyo-night)\n",
    "  !jar xvf  \"/content/tokyo-night.zip\"            # estrae il file zip nella cartella (in questo caso small)\n",
    "\n",
    "if not os.path.isdir('/content/tokyo-night'):\n",
    "  print(\"Dataset doesn't exist\")"
   ]
  },
  {
   "attachments": {},
   "cell_type": "markdown",
   "metadata": {},
   "source": [
    "# Download Code"
   ]
  },
  {
   "cell_type": "code",
   "execution_count": null,
   "metadata": {},
   "outputs": [],
   "source": [
    "!git clone \"https://github.com/GabriG23/AGP.git\" # usiamo il nostro, non possiamo fare modifiche sull'altro"
   ]
  },
  {
   "attachments": {},
   "cell_type": "markdown",
   "metadata": {},
   "source": [
    "# Import Code"
   ]
  },
  {
   "cell_type": "code",
   "execution_count": null,
   "metadata": {},
   "outputs": [],
   "source": [
    "import os\n",
    "import logging\n",
    "import torch\n",
    "import torch.nn as nn\n",
    "import torch.nn.functional as F\n",
    "import torch.optim as optim\n",
    "from torch.utils.data import DataLoader\n",
    "from torch.backends import cudnn\n",
    "\n",
    "from PIL import Image\n",
    "from tqdm import tqdm\n",
    "\n",
    "import sys\n",
    "sys.path.append(\"/content/AGP/\")\n",
    "import AGP\n",
    "from AGP import *"
   ]
  },
  {
   "attachments": {},
   "cell_type": "markdown",
   "metadata": {},
   "source": [
    "# 2. Experiments\n"
   ]
  },
  {
   "attachments": {},
   "cell_type": "markdown",
   "metadata": {},
   "source": [
    "##### Training on sf-xs"
   ]
  },
  {
   "cell_type": "code",
   "execution_count": 1,
   "metadata": {},
   "outputs": [
    {
     "name": "stderr",
     "output_type": "stream",
     "text": [
      "Python non trovato; Esegui senza argomenti per installare da Microsoft Store o disabilitare il collegamento da impostazioni > Gestisci app Alias di esecuzione.\n"
     ]
    }
   ],
   "source": [
    "!python3 AGP/train.py --dataset_folder small --groups_num 1 --epochs_num 3 --loss_function sphereface\n",
    "# !python3 AGP/train.py --dataset_folder small --groups_num 1 --epochs_num 3 --loss_function cosface\n",
    "# !python3 AGP/train.py --dataset_folder small --groups_num 1 --epochs_num 3 --loss_function arcface"
   ]
  },
  {
   "cell_type": "code",
   "execution_count": null,
   "metadata": {},
   "outputs": [],
   "source": [
    "# codice che scarica tutto, volendo lo si può anche salvare direttamente su file\n",
    "from google.colab import files\n",
    "path = F\"/content/logs/default/2023-01-03_15-43-55/best_model.pth\" \n",
    "files.download(path)"
   ]
  },
  {
   "attachments": {},
   "cell_type": "markdown",
   "metadata": {},
   "source": [
    "##### Test on sf-xs"
   ]
  },
  {
   "cell_type": "code",
   "execution_count": null,
   "metadata": {},
   "outputs": [],
   "source": [
    "!python3 AGP/eval.py --dataset_folder /content/small/ --backbone resnet18 --fc_output_dim 512 --resume_model /content/logs/default/2023-01-08_22-16-14/best_model.pth\n",
    "# cosface ->      < test - #q: 1000; #db: 27191 >: R@1: 52.2, R@5: 66.3, R@10: 71.8, R@20: 76.3\n",
    "# arcface ->      < test - #q: 1000; #db: 27191 >: R@1: 51.8, R@5: 66.6, R@10: 71.3, R@20: 75.7\n",
    "# sphereface ->   < test - #q: 1000; #db: 27191 >: R@1: 50.7, R@5: 64.9, R@10: 71.1, R@20: 75.1"
   ]
  },
  {
   "attachments": {},
   "cell_type": "markdown",
   "metadata": {},
   "source": [
    "##### Test on tokyo-xs"
   ]
  },
  {
   "cell_type": "code",
   "execution_count": null,
   "metadata": {},
   "outputs": [],
   "source": [
    "!python3 AGP/eval.py --dataset_folder /content/tokyo_xs/ --backbone resnet18 --fc_output_dim 512 --resume_model /content/logs/default/2023-01-08_22-16-14/best_model.pth\n",
    "# cosface ->       < test - #q: 315; #db: 12771 >: R@1: 69.5, R@5: 84.8, R@10: 89.2, R@20: 93.0\n",
    "# arcface ->       < test - #q: 315; #db: 12771 >: R@1: 67.3, R@5: 81.6, R@10: 85.7, R@20: 91.7\n",
    "# sphereface ->    < test - #q: 315; #db: 12771 >: R@1: 68.9, R@5: 83.2, R@10: 88.6, R@20: 92.4"
   ]
  },
  {
   "attachments": {},
   "cell_type": "markdown",
   "metadata": {},
   "source": [
    "##### Test on tokyo-night"
   ]
  },
  {
   "cell_type": "code",
   "execution_count": null,
   "metadata": {},
   "outputs": [],
   "source": [
    "!python3 AGP/eval.py --dataset_folder /content/tokyo-night/ --backbone resnet18 --fc_output_dim 512 --resume_model /content/logs/default/2023-01-08_22-16-14/best_model.pth\n",
    "# cosface ->       < test - #q: 105; #db: 12771 >: R@1: 49.5, R@5: 73.3, R@10: 80.0, R@20: 85.7\n",
    "# arcface ->       < test - #q: 105; #db: 12771 >: R@1: 47.6, R@5: 72.4, R@10: 75.2, R@20: 84.8\n",
    "# sphereface ->    < test - #q: 105; #db: 12771 >: R@1: 46.7, R@5: 70.5, R@10: 78.1, R@20: 83.8"
   ]
  }
 ],
 "metadata": {
  "kernelspec": {
   "display_name": "base",
   "language": "python",
   "name": "python3"
  },
  "language_info": {
   "codemirror_mode": {
    "name": "ipython",
    "version": 3
   },
   "file_extension": ".py",
   "mimetype": "text/x-python",
   "name": "python",
   "nbconvert_exporter": "python",
   "pygments_lexer": "ipython3",
   "version": "3.9.7 (default, Sep 16 2021, 16:59:28) [MSC v.1916 64 bit (AMD64)]"
  },
  "orig_nbformat": 4,
  "vscode": {
   "interpreter": {
    "hash": "9ba91a1e1262ea288558f52126854d83d155845341f309356e8d5d5e5599db23"
   }
  }
 },
 "nbformat": 4,
 "nbformat_minor": 2
}
