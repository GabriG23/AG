{
  "cells": [
    {
      "attachments": {},
      "cell_type": "markdown",
      "metadata": {
        "id": "su-tsY5b6Q9u"
      },
      "source": [
        "# Code for Google Colaboratory"
      ]
    },
    {
      "attachments": {},
      "cell_type": "markdown",
      "metadata": {},
      "source": [
        "# Libraries"
      ]
    },
    {
      "cell_type": "code",
      "execution_count": null,
      "metadata": {
        "colab": {
          "base_uri": "https://localhost:8080/",
          "height": 1000
        },
        "id": "GGn7tFWw6RYi",
        "outputId": "63f7167c-b64c-4090-cfad-9d4727475b88"
      },
      "outputs": [],
      "source": [
        "!pip3 install 'torch>=1.8.2'\n",
        "!pip3 install 'torchvision>=0.9.2'\n",
        "!pip3 install 'faiss_cpu>=1.7.1'\n",
        "!pip3 install 'numpy>=1.21.2'\n",
        "!pip3 install 'Pillow>=9.0.1'\n",
        "!pip3 install 'scikit_learn>=1.0.2'\n",
        "!pip3 install 'tqdm>=4.62.3'\n",
        "!pip3 install 'utm>=0.7.0'\n",
        "!pip3 install 'kornia'\n",
        "!pip3 install 'Shapely'\n",
        "!pip3 install \"einops\"\n",
        "!pip3 install --upgrade --no-cache-dir gdown       # support for download a large file from Google Drive\n",
        "\n",
        "#use GPU if available\n",
        "DEVICE = torch.device(\"cuda:0\" if torch.cuda.is_available() else \"cpu\") #'cpu' # 'cuda' or 'cpu'\n",
        "print(DEVICE)"
      ]
    },
    {
      "attachments": {},
      "cell_type": "markdown",
      "metadata": {
        "id": "JqZT3fx2Z7bp"
      },
      "source": [
        "# Downloading Datasets - new version 224x224\n",
        "- https://drive.google.com/file/d/1Q_JGBHk5iN_lqA6OR5tBEZc_Lb-0wQ5b/view?usp=share_link sf_xs.zip\n",
        "- https://drive.google.com/file/d/1Zya9NnGOZqAXo0b9Z4YfD5qPXpVq8p14/view?usp=share_link tokyo_xs.zip\n",
        "- https://drive.google.com/file/d/1idC1UBdwSap_Nx1SZVDhRDHJI3LQn5E3/view?usp=share_link tokyo_night.zip"
      ]
    },
    {
      "cell_type": "code",
      "execution_count": null,
      "metadata": {
        "colab": {
          "base_uri": "https://localhost:8080/"
        },
        "id": "qKY3BhHNZ5rW",
        "outputId": "6472ed6e-9532-4877-d9b5-96d1ae88b296"
      },
      "outputs": [],
      "source": [
        "from google.colab import drive\n",
        "import os, sys\n",
        "# 1Q_JGBHk5iN_lqA6OR5tBEZc_Lb-0wQ5b https://drive.google.com/file/d/1Q_JGBHk5iN_lqA6OR5tBEZc_Lb-0wQ5b/view?usp=share_link sf_xs.zip\n",
        "# 1Zya9NnGOZqAXo0b9Z4YfD5qPXpVq8p14 https://drive.google.com/file/d/1Zya9NnGOZqAXo0b9Z4YfD5qPXpVq8p14/view?usp=share_link tokyo_xs.zip\n",
        "# 1idC1UBdwSap_Nx1SZVDhRDHJI3LQn5E3 https://drive.google.com/file/d/1idC1UBdwSap_Nx1SZVDhRDHJI3LQn5E3/view?usp=share_link tokyo_night.zip\n",
        "\n",
        "if not os.path.isfile('/content/sf_xs.zip'):\n",
        "  !gdown 1Q_JGBHk5iN_lqA6OR5tBEZc_Lb-0wQ5b\n",
        "  !jar xvf  \"/content/sf_xs.zip\"            # extract file in the zip folder)\n",
        "\n",
        "if not os.path.isdir('/content/sf_xs'):\n",
        "  print(\"Dataset doesn't exist\")\n",
        "\n",
        "if not os.path.isfile('/content/tokyo_xs.zip'):\n",
        "  !gdown 1Zya9NnGOZqAXo0b9Z4YfD5qPXpVq8p14\n",
        "  !jar xvf  \"/content/tokyo_xs.zip\"            \n",
        "\n",
        "if not os.path.isdir('/content/tokyo_xs'):\n",
        "  print(\"Dataset doesn't exist\")\n",
        "\n",
        "if not os.path.isfile('/content/tokyo_night.zip'):\n",
        "  !gdown 1idC1UBdwSap_Nx1SZVDhRDHJI3LQn5E3 \n",
        "  !jar xvf  \"/content/tokyo_night.zip\"            \n",
        "\n",
        "if not os.path.isdir('/content/tokyo_night'):\n",
        "  print(\"Dataset doesn't exist\")"
      ]
    },
    {
      "attachments": {},
      "cell_type": "markdown",
      "metadata": {},
      "source": [
        "# Original - Loss functions\n",
        "- Remember to clone the correct branch"
      ]
    },
    {
      "cell_type": "code",
      "execution_count": null,
      "metadata": {
        "id": "U7vkmKiwbF03"
      },
      "outputs": [],
      "source": [
        "!rm -r /content/AG # to remove github folder"
      ]
    },
    {
      "cell_type": "code",
      "execution_count": null,
      "metadata": {
        "colab": {
          "base_uri": "https://localhost:8080/"
        },
        "id": "YP2_SSsA6XaK",
        "outputId": "efeb6ab9-722d-4e64-dc70-f62c033756a6"
      },
      "outputs": [],
      "source": [
        "!git clone \"https://github.com/GabriG23/AG\"\n",
        "!cd AG && git checkout main"
      ]
    },
    {
      "cell_type": "code",
      "execution_count": null,
      "metadata": {
        "id": "322RX0LN6iLf"
      },
      "outputs": [],
      "source": [
        "import sys\n",
        "sys.path.append(\"/content/AG/\")\n",
        "import AG\n",
        "from AG import *"
      ]
    },
    {
      "attachments": {},
      "cell_type": "markdown",
      "metadata": {},
      "source": [
        "### Train"
      ]
    },
    {
      "cell_type": "code",
      "execution_count": null,
      "metadata": {},
      "outputs": [],
      "source": [
        "!python3 AG/train.py --dataset_folder sf_xs --groups_num 1 --epochs_num 3 --loss_function cosface"
      ]
    },
    {
      "cell_type": "code",
      "execution_count": null,
      "metadata": {},
      "outputs": [],
      "source": [
        "!python3 AG/train.py --dataset_folder sf_xs --groups_num 1 --epochs_num 3 --loss_function arcface"
      ]
    },
    {
      "cell_type": "code",
      "execution_count": null,
      "metadata": {},
      "outputs": [],
      "source": [
        "!python3 AG/train.py --dataset_folder sf_xs --groups_num 1 --epochs_num 3 --loss_function sphereface"
      ]
    },
    {
      "attachments": {},
      "cell_type": "markdown",
      "metadata": {},
      "source": [
        "### Test"
      ]
    },
    {
      "cell_type": "code",
      "execution_count": null,
      "metadata": {},
      "outputs": [],
      "source": [
        "!python3 AG/eval.py --dataset_folder /content/sf_xs/ --backbone resnet18 --fc_output_dim 512 --resume_model /content/AG/trained_model/arcface_s30_m0-4.pth"
      ]
    },
    {
      "cell_type": "code",
      "execution_count": null,
      "metadata": {},
      "outputs": [],
      "source": [
        "!python3 AG/eval.py --dataset_folder /content/sf_xs/ --backbone resnet18 --fc_output_dim 512 --resume_model /content/AG/trained_model/arcface_s30_m0-4.pth"
      ]
    },
    {
      "cell_type": "code",
      "execution_count": null,
      "metadata": {},
      "outputs": [],
      "source": [
        "!python3 AG/eval.py --dataset_folder /content/sf_xs/ --backbone resnet18 --fc_output_dim 512 --resume_model /content/AG/trained_model/arcface_s30_m0-4.pth"
      ]
    },
    {
      "attachments": {},
      "cell_type": "markdown",
      "metadata": {},
      "source": [
        "# Geowarp\n",
        "- Remember to clone the correct branch"
      ]
    },
    {
      "cell_type": "code",
      "execution_count": null,
      "metadata": {},
      "outputs": [],
      "source": [
        "!rm -r /content/AG # to remove github folder"
      ]
    },
    {
      "cell_type": "code",
      "execution_count": null,
      "metadata": {},
      "outputs": [],
      "source": [
        "!git clone \"https://github.com/GabriG23/AG\"\n",
        "!cd AG && git checkout geowarp"
      ]
    },
    {
      "cell_type": "code",
      "execution_count": null,
      "metadata": {},
      "outputs": [],
      "source": [
        "import sys\n",
        "sys.path.append(\"/content/AG/\")\n",
        "import AG\n",
        "from AG import *"
      ]
    },
    {
      "attachments": {},
      "cell_type": "markdown",
      "metadata": {
        "id": "GiIWFmiw_FJb"
      },
      "source": [
        "### Training FE (Feature Extractor)"
      ]
    },
    {
      "cell_type": "code",
      "execution_count": null,
      "metadata": {
        "colab": {
          "base_uri": "https://localhost:8080/"
        },
        "id": "RK3n0x3w_FOb",
        "outputId": "57bc75e5-7bf7-401c-ff48-d5e321ab6131"
      },
      "outputs": [],
      "source": [
        "!python3 AG/train_fe.py --dataset_folder sf_xs --groups_num 1 --epochs_num 3 --num_workers 2"
      ]
    },
    {
      "attachments": {},
      "cell_type": "markdown",
      "metadata": {
        "id": "WgNhYv6r3Sq6"
      },
      "source": [
        "### Training Homography module"
      ]
    },
    {
      "cell_type": "code",
      "execution_count": null,
      "metadata": {
        "colab": {
          "base_uri": "https://localhost:8080/"
        },
        "id": "FqrWCCZb3SAI",
        "outputId": "18d2468e-b1b9-41b5-8892-a136c9d0856d"
      },
      "outputs": [],
      "source": [
        "!python3 AG/train_homography.py --dataset_folder sf_xs --groups_num 1 --epochs_num 3 --iterations_per_epoch 10000 --num_workers 2 --batch_size 32 --backbone resnet50 --resume_fe /content/AG/trained_model/feature_extractor_resnet50.pth"
      ]
    },
    {
      "attachments": {},
      "cell_type": "markdown",
      "metadata": {
        "id": "zuc6Bqs-fL4r"
      },
      "source": [
        "### Test"
      ]
    },
    {
      "cell_type": "code",
      "execution_count": null,
      "metadata": {
        "colab": {
          "base_uri": "https://localhost:8080/"
        },
        "id": "hjmDSmku_N6H",
        "outputId": "17b2db7f-6c0c-4197-b175-0c15c96a98ea"
      },
      "outputs": [],
      "source": [
        "!python3 AG/eval_geowarp.py --dataset_folder /content/sf_xs/ --num_reranked_predictions 20 --backbone resnet18 --fc_output_dim 512 --resume_fe /content/AG/trained_model/feature_extractor_resnet18.pth --resume_hr /content/AG/trained_model/homography_epoch3_batch32_ssw1.pth --num_workers 2"
      ]
    },
    {
      "cell_type": "code",
      "execution_count": null,
      "metadata": {
        "colab": {
          "base_uri": "https://localhost:8080/"
        },
        "id": "b8y6tfSooUPH",
        "outputId": "4d3132e7-da5b-4638-a9d4-3c0b00df19c2"
      },
      "outputs": [],
      "source": [
        "!python3 AG/eval_geowarp.py --dataset_folder /content/tokyo_xs/ --num_reranked_predictions 20 --backbone resnet18 --fc_output_dim 512 --resume_fe /content/AG/trained_model/feature_extractor_resnet18.pth --resume_hr /content/AG/trained_model/homography_epoch3_batch32_ssw1.pth --num_workers 2"
      ]
    },
    {
      "cell_type": "code",
      "execution_count": null,
      "metadata": {
        "colab": {
          "base_uri": "https://localhost:8080/"
        },
        "id": "TtIRHAs4oUW7",
        "outputId": "79cd819f-1f0c-4afe-e252-b1d8c9f727d4"
      },
      "outputs": [],
      "source": [
        "!python3 AG/eval_geowarp.py --dataset_folder /content/tokyo_night/ --num_reranked_predictions 20 --backbone resnet18 --fc_output_dim 512 --resume_fe /content/AG/trained_model/feature_extractor_resnet18.pth --resume_hr /content/AG/trained_model/homography_epoch3_batch32_ssw1.pth --num_workers 2"
      ]
    },
    {
      "attachments": {},
      "cell_type": "markdown",
      "metadata": {
        "id": "IKSrxAnJwjuH"
      },
      "source": [
        "# CVT-CCT\n",
        "- Remember to clone the correct branch"
      ]
    },
    {
      "cell_type": "code",
      "execution_count": null,
      "metadata": {
        "id": "-PJtCiMuwj0t"
      },
      "outputs": [],
      "source": [
        "!rm -r /content/AG # to remove github folder"
      ]
    },
    {
      "cell_type": "code",
      "execution_count": null,
      "metadata": {
        "colab": {
          "base_uri": "https://localhost:8080/"
        },
        "id": "PALlnVxawl84",
        "outputId": "52f5391b-2440-4988-fe6f-9c87ce4f410a"
      },
      "outputs": [],
      "source": [
        "!git clone \"https://github.com/GabriG23/AG\"\n",
        "!cd AG && git checkout backbone"
      ]
    },
    {
      "cell_type": "code",
      "execution_count": null,
      "metadata": {
        "id": "CDCC16pywmtR"
      },
      "outputs": [],
      "source": [
        "import sys\n",
        "sys.path.append(\"/content/AG/\")\n",
        "import AG\n",
        "from AG import *"
      ]
    },
    {
      "attachments": {},
      "cell_type": "markdown",
      "metadata": {
        "id": "mKpzGbFDwoFg"
      },
      "source": [
        "### Train\n"
      ]
    },
    {
      "cell_type": "code",
      "execution_count": null,
      "metadata": {
        "colab": {
          "base_uri": "https://localhost:8080/"
        },
        "id": "yl3IP_lVwq-M",
        "outputId": "b82078dc-3685-43cd-d140-4dc4f71f9130"
      },
      "outputs": [],
      "source": [
        "!python3 AG/train_backbone.py --dataset_folder sf_xs --groups_num 1 --epochs_num 3 --num_workers 2 --batch_size 32 --backbone cvt --fc_output_dim 224"
      ]
    },
    {
      "cell_type": "code",
      "execution_count": null,
      "metadata": {
        "colab": {
          "base_uri": "https://localhost:8080/"
        },
        "id": "NeV6HF8yJ6pO",
        "outputId": "b19e85c4-c624-4584-c228-5d0f73b7c495"
      },
      "outputs": [],
      "source": [
        "!python3 AG/train_backbone.py --dataset_folder sf_xs --groups_num 1 --epochs_num 3 --num_workers 2 --batch_size 32 --backbone cct --fc_output_dim 224"
      ]
    },
    {
      "attachments": {},
      "cell_type": "markdown",
      "metadata": {
        "id": "cJgTbpxWwqJq"
      },
      "source": [
        "### Test"
      ]
    },
    {
      "cell_type": "code",
      "execution_count": null,
      "metadata": {
        "colab": {
          "base_uri": "https://localhost:8080/"
        },
        "id": "XecehzzRwqRe",
        "outputId": "2bd98eb8-ed0c-450b-ea89-19eede4ae70a"
      },
      "outputs": [],
      "source": [
        "!python3 AG/eval.py --dataset_folder /content/sf_xs/ --backbone cvt --fc_output_dim 224 --resume_model /content/AG/trained_model/cvt_5epoch.pth"
      ]
    },
    {
      "cell_type": "code",
      "execution_count": null,
      "metadata": {
        "id": "sC7IN_Wdzwcp"
      },
      "outputs": [],
      "source": [
        "!python3 AG/eval.py --dataset_folder /content/tokyo_xs/ --backbone cvt --fc_output_dim 224 --resume_model /content/AG/trained_model/cvt_5epoch.pth"
      ]
    },
    {
      "cell_type": "code",
      "execution_count": null,
      "metadata": {
        "id": "sYtjDA0jzw3n"
      },
      "outputs": [],
      "source": [
        "!python3 AG/eval.py --dataset_folder /content/tokyo_night/ --backbone cvt --fc_output_dim 224 --resume_model /content/AG/trained_model/cvt_5epoch.pth"
      ]
    }
  ],
  "metadata": {
    "accelerator": "GPU",
    "colab": {
      "gpuType": "T4",
      "provenance": []
    },
    "gpuClass": "standard",
    "kernelspec": {
      "display_name": "Python 3",
      "name": "python3"
    },
    "language_info": {
      "name": "python"
    }
  },
  "nbformat": 4,
  "nbformat_minor": 0
}
