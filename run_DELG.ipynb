{
  "cells": [
    {
      "attachments": {},
      "cell_type": "markdown",
      "metadata": {
        "id": "2gnrFgyZJzpt"
      },
      "source": [
        "# Torch"
      ]
    },
    {
      "cell_type": "code",
      "execution_count": null,
      "metadata": {
        "id": "5dE026HvJyCj"
      },
      "outputs": [],
      "source": [
        "!pip3 install 'torch>=1.8.2'\n",
        "!pip3 install 'torchvision>=0.9.2'\n",
        "!pip3 install 'faiss_cpu>=1.7.1'\n",
        "!pip3 install 'numpy>=1.21.2'\n",
        "!pip3 install 'Pillow>=9.0.1'\n",
        "!pip3 install 'scikit_learn>=1.0.2'\n",
        "!pip3 install 'tqdm>=4.62.3'\n",
        "!pip3 install 'utm>=0.7.0'\n",
        "\n",
        "import torch\n",
        "DEVICE = torch.device(\"cuda:0\" if torch.cuda.is_available() else \"cpu\")\n",
        "print(DEVICE)"
      ]
    },
    {
      "cell_type": "code",
      "execution_count": null,
      "metadata": {
        "id": "r5lLeoR9WHU7"
      },
      "outputs": [],
      "source": [
        "from PIL import Image\n",
        "from skimage import data\n",
        "from tqdm import tqdm\n",
        "import torch.nn as nn\n",
        "import torch.nn.functional as F\n",
        "from torch.nn.parameter import Parameter\n",
        "import torch.optim as optim\n",
        "from torch.utils.data import DataLoader\n",
        "from torch.backends import cudnn\n",
        "import numpy as np\n",
        "import logging\n",
        "from torch import nn\n",
        "from scipy import spatial\n",
        "from skimage import feature\n",
        "from skimage import measure\n",
        "from skimage import transform\n",
        "import os, sys"
      ]
    },
    {
      "attachments": {},
      "cell_type": "markdown",
      "metadata": {
        "id": "8puvYtWXKUrZ"
      },
      "source": [
        "# Datasets - new version 224x224\n",
        "- https://drive.google.com/file/d/1Q_JGBHk5iN_lqA6OR5tBEZc_Lb-0wQ5b/view?usp=share_link sf_xs.zip\n",
        "- https://drive.google.com/file/d/1Zya9NnGOZqAXo0b9Z4YfD5qPXpVq8p14/view?usp=share_link tokyo_xs.zip\n",
        "- https://drive.google.com/file/d/1idC1UBdwSap_Nx1SZVDhRDHJI3LQn5E3/view?usp=share_link tokyo_night.zip\n"
      ]
    },
    {
      "cell_type": "code",
      "execution_count": null,
      "metadata": {
        "id": "KJcSljRMJ3CD"
      },
      "outputs": [],
      "source": [
        "!pip install --upgrade --no-cache-dir gdown\n",
        "\n",
        "# 1Q_JGBHk5iN_lqA6OR5tBEZc_Lb-0wQ5b https://drive.google.com/file/d/1Q_JGBHk5iN_lqA6OR5tBEZc_Lb-0wQ5b/view?usp=share_link sf_xs.zip\n",
        "# 1Zya9NnGOZqAXo0b9Z4YfD5qPXpVq8p14 https://drive.google.com/file/d/1Zya9NnGOZqAXo0b9Z4YfD5qPXpVq8p14/view?usp=share_link tokyo_xs.zip\n",
        "# 1idC1UBdwSap_Nx1SZVDhRDHJI3LQn5E3 https://drive.google.com/file/d/1idC1UBdwSap_Nx1SZVDhRDHJI3LQn5E3/view?usp=share_link tokyo_night.zip\n",
        "\n",
        "if not os.path.isfile('sf_xs.zip'):\n",
        "  !gdown 1Q_JGBHk5iN_lqA6OR5tBEZc_Lb-0wQ5b\n",
        "  !jar xvf  \"/content/sf_xs.zip\"\n",
        "\n",
        "if not os.path.isdir('sf_xs.zip'):\n",
        "  print(\"Dataset doesn't exist\")\n",
        "\n",
        "if not os.path.isfile('/content/tokyo_xs.zip'):\n",
        "  !gdown 1Zya9NnGOZqAXo0b9Z4YfD5qPXpVq8p14\n",
        "  !jar xvf  \"/content/tokyo_xs.zip\"\n",
        "\n",
        "if not os.path.isdir('tokyo_xs'):\n",
        "  print(\"Dataset doesn't exist\")\n",
        "\n",
        "if not os.path.isfile('/content/tokyo_night.zip'):\n",
        "  !gdown 1idC1UBdwSap_Nx1SZVDhRDHJI3LQn5E3\n",
        "  !jar xvf  \"/content/tokyo_night.zip\"\n",
        "\n",
        "if not os.path.isdir('tokyo_night'):\n",
        "  print(\"Dataset doesn't exist\")"
      ]
    },
    {
      "attachments": {},
      "cell_type": "markdown",
      "metadata": {
        "id": "IHh18qTiL_cx"
      },
      "source": [
        "##### If there are problem in downloading the datasets"
      ]
    },
    {
      "cell_type": "code",
      "execution_count": null,
      "metadata": {
        "colab": {
          "base_uri": "https://localhost:8080/"
        },
        "id": "1Ueakfo_Y5o6",
        "outputId": "09b9bf81-430a-4ea3-804d-95303edf497c"
      },
      "outputs": [
        {
          "name": "stdout",
          "output_type": "stream",
          "text": [
            "Mounted at /content/drive\n"
          ]
        }
      ],
      "source": [
        "from google.colab import drive\n",
        "drive.mount('/content/drive')"
      ]
    },
    {
      "cell_type": "code",
      "execution_count": null,
      "metadata": {
        "id": "mxlATeWmLrSk"
      },
      "outputs": [],
      "source": [
        "if not os.path.isfile('/content/sf_xs.zip'):\n",
        "  !jar xvf  \"/content/drive/MyDrive/sf_xs.zip\"\n",
        "if not os.path.isfile('/content/tokyo_xs.zip'):\n",
        "  !jar xvf  \"/content/drive/MyDrive/tokyo_xs.zip\"\n",
        "if not os.path.isdir('/content/tokyo_night'):\n",
        "  !jar xvf  \"/content/drive/MyDrive/tokyo_night.zip\""
      ]
    },
    {
      "attachments": {},
      "cell_type": "markdown",
      "metadata": {
        "id": "KhPGzJgnJTrC"
      },
      "source": [
        "# Donwload Code"
      ]
    },
    {
      "cell_type": "code",
      "execution_count": null,
      "metadata": {
        "id": "eFzrbfJzylef"
      },
      "outputs": [],
      "source": [
        "!rm -r /content/AG"
      ]
    },
    {
      "cell_type": "code",
      "execution_count": null,
      "metadata": {
        "colab": {
          "base_uri": "https://localhost:8080/"
        },
        "id": "HbQ2VSBcJYcL",
        "outputId": "22fdfb8a-8eba-40c2-c1bf-2ec527d3179f"
      },
      "outputs": [
        {
          "name": "stdout",
          "output_type": "stream",
          "text": [
            "Cloning into 'AG'...\n",
            "remote: Enumerating objects: 14482, done.\u001b[K\n",
            "remote: Counting objects: 100% (872/872), done.\u001b[K\n",
            "remote: Compressing objects: 100% (276/276), done.\u001b[K\n",
            "remote: Total 14482 (delta 606), reused 856 (delta 594), pack-reused 13610\u001b[K\n",
            "Receiving objects: 100% (14482/14482), 1.63 GiB | 26.06 MiB/s, done.\n",
            "Resolving deltas: 100% (1099/1099), done.\n",
            "Updating files: 100% (49/49), done.\n",
            "Branch 'Delg' set up to track remote branch 'Delg' from 'origin'.\n",
            "Switched to a new branch 'Delg'\n"
          ]
        }
      ],
      "source": [
        "!git clone \"https://github.com/GabriG23/AG\"\n",
        "!cd AG && git checkout Delg               # cambia branch"
      ]
    },
    {
      "attachments": {},
      "cell_type": "markdown",
      "metadata": {
        "id": "gJXgW_mlJoKY"
      },
      "source": [
        "# Import Code"
      ]
    },
    {
      "cell_type": "code",
      "execution_count": null,
      "metadata": {
        "id": "Zskw2ioAi8XJ"
      },
      "outputs": [],
      "source": [
        "sys.path.append(\"/content/AG/\")\n",
        "import AG\n",
        "from AG import *"
      ]
    },
    {
      "attachments": {},
      "cell_type": "markdown",
      "metadata": {
        "id": "Qg0-2FkuJvc0"
      },
      "source": [
        "# 2. Experiment\n"
      ]
    },
    {
      "attachments": {},
      "cell_type": "markdown",
      "metadata": {
        "id": "ypq65ZXhXfGP"
      },
      "source": [
        "##### Training Delg on sf-xs"
      ]
    },
    {
      "cell_type": "code",
      "execution_count": null,
      "metadata": {
        "id": "C75RJPXrO39z"
      },
      "outputs": [],
      "source": [
        "!python3 AG/train.py --dataset_folder sf_xs --backbone resnet50 --groups_num 1 --epochs_num 3 --fm_reduction_dim 128 --reduction"
      ]
    },
    {
      "attachments": {},
      "cell_type": "markdown",
      "metadata": {
        "id": "ZFJcMbCIVkcb"
      },
      "source": [
        "##### Training Delg on sf-xs ONLY local features"
      ]
    },
    {
      "cell_type": "code",
      "execution_count": null,
      "metadata": {
        "id": "l2b2e3b3Vpq1"
      },
      "outputs": [],
      "source": [
        "!python3 AG/train_only_local.py --dataset_folder sf_xs --backbone resnet50 --groups_num 1 --epochs_num 3 --fm_reduction_dim 128 --reduction --resume_model /content/drive/MyDrive/res50_bs32_red128_3+9.pth"
      ]
    },
    {
      "attachments": {},
      "cell_type": "markdown",
      "metadata": {
        "id": "4G_iWPJIN44d"
      },
      "source": [
        "# Test"
      ]
    },
    {
      "attachments": {},
      "cell_type": "markdown",
      "metadata": {
        "id": "hZb36haOXjh5"
      },
      "source": [
        "##### Test on sf-xs"
      ]
    },
    {
      "cell_type": "code",
      "execution_count": null,
      "metadata": {
        "id": "VMolvPqkXjuz"
      },
      "outputs": [],
      "source": [
        "!python3 AG/eval.py --dataset_folder sf_xs --backbone resnet50 --fc_output_dim 512 --fm_reduction_dim 128 --reduction --resume_model /content/drive/MyDrive/res50_bs32_red128_3+9.pth"
      ]
    },
    {
      "attachments": {},
      "cell_type": "markdown",
      "metadata": {
        "id": "-9rcanE1XloR"
      },
      "source": [
        "##### Test on tokyo-xs"
      ]
    },
    {
      "cell_type": "code",
      "execution_count": null,
      "metadata": {
        "id": "TFOgvU_WXp1g"
      },
      "outputs": [],
      "source": [
        "!python3 AG/eval.py --dataset_folder tokyo_xs --backbone resnet50 --fc_output_dim 512 --fm_reduction_dim 128 --reduction --resume_model /content/drive/MyDrive/res50_bs32_red128_3+9.pth"
      ]
    },
    {
      "attachments": {},
      "cell_type": "markdown",
      "metadata": {
        "id": "aGPOEVSCXlsv"
      },
      "source": [
        "##### Test on tokyo-night"
      ]
    },
    {
      "cell_type": "code",
      "execution_count": null,
      "metadata": {
        "id": "eusdbvrtXrUv"
      },
      "outputs": [],
      "source": [
        "!python3 AG/eval.py --dataset_folder tokyo_night --backbone resnet50 --fc_output_dim 512 --fm_reduction_dim 128 --reduction --resume_model /content/drive/MyDrive/res50_bs32_red128_3+9.pth"
      ]
    }
  ],
  "metadata": {
    "accelerator": "GPU",
    "colab": {
      "collapsed_sections": [
        "_It7cCb8JE2e",
        "gJXgW_mlJoKY"
      ],
      "gpuType": "T4",
      "provenance": [],
      "toc_visible": true
    },
    "gpuClass": "standard",
    "kernelspec": {
      "display_name": "Python 3",
      "name": "python3"
    },
    "language_info": {
      "name": "python"
    }
  },
  "nbformat": 4,
  "nbformat_minor": 0
}
